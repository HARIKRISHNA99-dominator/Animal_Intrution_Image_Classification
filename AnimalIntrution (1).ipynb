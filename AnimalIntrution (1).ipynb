{
  "nbformat": 4,
  "nbformat_minor": 0,
  "metadata": {
    "colab": {
      "name": "AnimalIntrution.ipynb",
      "provenance": [],
      "collapsed_sections": []
    },
    "kernelspec": {
      "name": "python3",
      "display_name": "Python 3"
    },
    "language_info": {
      "name": "python"
    }
  },
  "cells": [
    {
      "cell_type": "code",
      "source": [
        "from google.colab import drive\n",
        "drive.mount('/content/drive')"
      ],
      "metadata": {
        "colab": {
          "base_uri": "https://localhost:8080/"
        },
        "id": "o_pONAsDbwvw",
        "outputId": "308dc7f2-63db-4389-e14b-67f3bc7595de"
      },
      "execution_count": 7,
      "outputs": [
        {
          "output_type": "stream",
          "name": "stdout",
          "text": [
            "Mounted at /content/drive\n"
          ]
        }
      ]
    },
    {
      "cell_type": "code",
      "execution_count": 4,
      "metadata": {
        "id": "f4fugdO1QcxH"
      },
      "outputs": [],
      "source": [
        "import tensorflow as tf\n",
        "from tensorflow import keras\n",
        "from tensorflow.keras.preprocessing import image\n",
        "from tensorflow.keras.preprocessing.image import ImageDataGenerator\n",
        "from tensorflow.keras.models import Sequential\n",
        "from tensorflow.keras.optimizers import Adam\n",
        "from tensorflow.keras.losses import CategoricalCrossentropy\n",
        "from tensorflow.keras.layers import Flatten,Conv2D,MaxPool2D,Dense  \n",
        "import numpy as np"
      ]
    },
    {
      "cell_type": "code",
      "source": [
        "training=ImageDataGenerator(rescale=1/255).flow_from_directory(\"/content/drive/MyDrive/Animal_Intrution/\",target_size=(244,244),batch_size=16,class_mode='sparse')"
      ],
      "metadata": {
        "id": "aGRZ5VfRQ803",
        "colab": {
          "base_uri": "https://localhost:8080/"
        },
        "outputId": "b64c5741-8043-4b45-82d3-34b7d13bf42e"
      },
      "execution_count": 5,
      "outputs": [
        {
          "output_type": "stream",
          "name": "stdout",
          "text": [
            "Found 5935 images belonging to 3 classes.\n"
          ]
        }
      ]
    },
    {
      "cell_type": "code",
      "source": [
        "model = keras.models.Sequential([\n",
        "    keras.layers.Conv2D(filters=96, kernel_size=(11,11), strides=(4,4), activation='relu', input_shape=(227,227,3)),\n",
        "    keras.layers.BatchNormalization(),\n",
        "    keras.layers.MaxPool2D(pool_size=(3,3), strides=(2,2)),\n",
        "    keras.layers.Conv2D(filters=256, kernel_size=(5,5), strides=(1,1), activation='relu', padding=\"same\"),\n",
        "    keras.layers.BatchNormalization(),\n",
        "    keras.layers.MaxPool2D(pool_size=(3,3), strides=(2,2)),\n",
        "    keras.layers.Conv2D(filters=384, kernel_size=(3,3), strides=(1,1), activation='relu', padding=\"same\"),\n",
        "    keras.layers.BatchNormalization(),\n",
        "    keras.layers.Conv2D(filters=384, kernel_size=(3,3), strides=(1,1), activation='relu', padding=\"same\"),\n",
        "    keras.layers.BatchNormalization(),\n",
        "    keras.layers.Conv2D(filters=256, kernel_size=(3,3), strides=(1,1), activation='relu', padding=\"same\"),\n",
        "    keras.layers.BatchNormalization(),\n",
        "    keras.layers.MaxPool2D(pool_size=(3,3), strides=(2,2)),\n",
        "    keras.layers.Flatten(),\n",
        "    keras.layers.Dense(4096, activation='relu'),\n",
        "    keras.layers.Dropout(0.5),\n",
        "    keras.layers.Dense(4096, activation='relu'),\n",
        "    keras.layers.Dropout(0.5),\n",
        "    keras.layers.Dense(3, activation='softmax')\n",
        "])"
      ],
      "metadata": {
        "id": "lf0BZiYrTAjv"
      },
      "execution_count": 6,
      "outputs": []
    },
    {
      "cell_type": "code",
      "source": [
        "model.compile(optimizer=Adam(learning_rate=0.001),loss='sparse_categorical_crossentropy',metrics='accuracy')"
      ],
      "metadata": {
        "id": "SxE7xk6vTntV"
      },
      "execution_count": 17,
      "outputs": []
    },
    {
      "cell_type": "code",
      "source": [
        "model.fit(training,epochs=20)"
      ],
      "metadata": {
        "id": "JKGV5ChBUWs_",
        "colab": {
          "base_uri": "https://localhost:8080/"
        },
        "outputId": "aa0d2069-095d-4040-9c1a-45049f90ff40"
      },
      "execution_count": 18,
      "outputs": [
        {
          "output_type": "stream",
          "name": "stdout",
          "text": [
            "Epoch 1/20\n",
            "371/371 [==============================] - 1943s 5s/step - loss: 5.4033 - accuracy: 0.4253\n",
            "Epoch 2/20\n",
            "371/371 [==============================] - 1011s 3s/step - loss: 1.2018 - accuracy: 0.4765\n",
            "Epoch 3/20\n",
            "371/371 [==============================] - 1014s 3s/step - loss: 1.0643 - accuracy: 0.5036\n",
            "Epoch 4/20\n",
            "371/371 [==============================] - 1009s 3s/step - loss: 1.0947 - accuracy: 0.5211\n",
            "Epoch 5/20\n",
            "371/371 [==============================] - 1008s 3s/step - loss: 1.0899 - accuracy: 0.5392\n",
            "Epoch 6/20\n",
            "371/371 [==============================] - 1005s 3s/step - loss: 1.0586 - accuracy: 0.5481\n",
            "Epoch 7/20\n",
            "371/371 [==============================] - 1005s 3s/step - loss: 1.0119 - accuracy: 0.5650\n",
            "Epoch 8/20\n",
            "371/371 [==============================] - 1002s 3s/step - loss: 0.9048 - accuracy: 0.6067\n",
            "Epoch 9/20\n",
            "371/371 [==============================] - 1000s 3s/step - loss: 0.9289 - accuracy: 0.6086\n",
            "Epoch 10/20\n",
            "371/371 [==============================] - 1002s 3s/step - loss: 0.8624 - accuracy: 0.6376\n",
            "Epoch 11/20\n",
            "371/371 [==============================] - 1000s 3s/step - loss: 0.8328 - accuracy: 0.6608\n",
            "Epoch 12/20\n",
            "371/371 [==============================] - 1004s 3s/step - loss: 0.7823 - accuracy: 0.6785\n",
            "Epoch 13/20\n",
            "371/371 [==============================] - 1002s 3s/step - loss: 0.7562 - accuracy: 0.6957\n",
            "Epoch 14/20\n",
            "371/371 [==============================] - 1005s 3s/step - loss: 0.7230 - accuracy: 0.7085\n",
            "Epoch 15/20\n",
            "371/371 [==============================] - 1003s 3s/step - loss: 0.6536 - accuracy: 0.7373\n",
            "Epoch 16/20\n",
            "371/371 [==============================] - 1000s 3s/step - loss: 0.5763 - accuracy: 0.7714\n",
            "Epoch 17/20\n",
            "371/371 [==============================] - 1038s 3s/step - loss: 0.5702 - accuracy: 0.7747\n",
            "Epoch 18/20\n",
            "371/371 [==============================] - 1013s 3s/step - loss: 0.5061 - accuracy: 0.8010\n",
            "Epoch 19/20\n",
            "371/371 [==============================] - 1004s 3s/step - loss: 0.4962 - accuracy: 0.8133\n",
            "Epoch 20/20\n",
            "371/371 [==============================] - 1005s 3s/step - loss: 0.4700 - accuracy: 0.8221\n"
          ]
        },
        {
          "output_type": "execute_result",
          "data": {
            "text/plain": [
              "<keras.callbacks.History at 0x7f6b132866d0>"
            ]
          },
          "metadata": {},
          "execution_count": 18
        }
      ]
    },
    {
      "cell_type": "code",
      "source": [
        "model.save(\"/content/drive/MyDrive/Animal_intrusion_Saved_Model/anim_model.h5\")"
      ],
      "metadata": {
        "id": "WctMqovIUlwL",
        "colab": {
          "base_uri": "https://localhost:8080/",
          "height": 165
        },
        "outputId": "ced71ba0-c2f7-493d-8072-697354e99b45"
      },
      "execution_count": 10,
      "outputs": [
        {
          "output_type": "error",
          "ename": "NameError",
          "evalue": "ignored",
          "traceback": [
            "\u001b[0;31m---------------------------------------------------------------------------\u001b[0m",
            "\u001b[0;31mNameError\u001b[0m                                 Traceback (most recent call last)",
            "\u001b[0;32m<ipython-input-10-e60a88c83d17>\u001b[0m in \u001b[0;36m<module>\u001b[0;34m()\u001b[0m\n\u001b[0;32m----> 1\u001b[0;31m \u001b[0mmodel\u001b[0m\u001b[0;34m.\u001b[0m\u001b[0msave\u001b[0m\u001b[0;34m(\u001b[0m\u001b[0;34m\"/content/drive/MyDrive/Animal_intrusion_Saved_Model/anim_model.h5\"\u001b[0m\u001b[0;34m)\u001b[0m\u001b[0;34m\u001b[0m\u001b[0;34m\u001b[0m\u001b[0m\n\u001b[0m",
            "\u001b[0;31mNameError\u001b[0m: name 'model' is not defined"
          ]
        }
      ]
    }
  ]
}